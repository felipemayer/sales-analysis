{
 "cells": [
  {
   "cell_type": "code",
   "execution_count": 1,
   "metadata": {},
   "outputs": [],
   "source": [
    "# !pip install google-cloud-bigquery\n",
    "# !pip install pyarrow\n",
    "\n",
    "from google.cloud import bigquery\n",
    "import pandas as pd\n",
    "import os\n",
    "import glob\n",
    "import time\n",
    "\n",
    "SERVICE_ACCOUNT_JSON = r\"D:\\DataAnalytics\\projects\\sales-store-383520-cd6fdfbcbcb6.json\"\n",
    "client = bigquery.Client.from_service_account_json(SERVICE_ACCOUNT_JSON)\n"
   ]
  },
  {
   "cell_type": "code",
   "execution_count": 2,
   "metadata": {},
   "outputs": [
    {
     "name": "stdout",
     "output_type": "stream",
     "text": [
      "df_address_customers\n",
      "df_business_goal\n",
      "df_business_unit\n",
      "df_channel\n",
      "df_customer_type\n",
      "df_products\n",
      "df_sales\n",
      "df_stores\n",
      "8\n"
     ]
    }
   ],
   "source": [
    "path = os.getcwd()\n",
    "csv_files = glob.glob(os.path.join(path + '/files/', \"*.csv\"))\n",
    "\n",
    "dict_dfs = {}\n",
    "\n",
    "for f in csv_files:\n",
    "    # get the file name from file and remove 'bd_' and '.csv' to use the name in the dataframe\n",
    "    file_name = f.split(\"\\\\\")[-1].replace('.csv', '')\n",
    "\n",
    "    # create dinamicaly a dataframe with the name of the file\n",
    "    # use ; as separator\n",
    "    # change the encoding type to accept files with portuguese (brazilian) words\n",
    "    globals()[f\"df_{file_name}\"] = pd.read_csv(f, sep=';', encoding='iso-8859-1')\n",
    "\n",
    "    dict_dfs[f\"df_{file_name}\"] = globals()[f\"df_{file_name}\"]\n",
    "    print(f\"df_{file_name}\")\n",
    "\n",
    "print(len(dict_dfs))"
   ]
  },
  {
   "cell_type": "code",
   "execution_count": 3,
   "metadata": {},
   "outputs": [],
   "source": [
    "df_channel.columns = ['id_channel', 'channel']\n",
    "\n",
    "df_address_customers.columns = ['id_address_sale', 'customer_state']\n",
    "\n",
    "df_customer_type.columns = ['id_customer_type', 'customer_type'] \n",
    "\n",
    "df_stores.columns = ['id_store', 'store_code', 'start_date', 'branch', 'district', 'city', 'state']\n",
    "\n",
    "df_business_goal.columns = ['date', 'id_store', 'id_business_unit', 'id_channel', 'sales_goal']\n",
    "\n",
    "df_products.columns = ['id_product', 'supplier', 'product_name', 'category', 'sub-category']\n",
    "\n",
    "df_business_unit.columns = ['id_business_unit', 'business_unit']\n",
    "\n",
    "df_sales.columns = ['date', 'id_store', 'id_business_unit', 'id_channel', \n",
    "                        'id_product', 'id_coupon', 'id_customer', 'id_address_sale', \n",
    "                        'id_customer_type', 'items', 'gross_revenue', 'tax_value', 'costs']"
   ]
  },
  {
   "cell_type": "code",
   "execution_count": 4,
   "metadata": {},
   "outputs": [
    {
     "name": "stdout",
     "output_type": "stream",
     "text": [
      "df_address_customers\n",
      "Created table sales-store-383520.raw.address_customers\n",
      "RUNNING\n",
      "DONE\n",
      "Loaded 162774 rows and 2 columns to sales-store-383520.raw.address_customers\n",
      "df_business_goal\n",
      "Created table sales-store-383520.raw.business_goal\n",
      "DONE\n",
      "Loaded 14506 rows and 5 columns to sales-store-383520.raw.business_goal\n",
      "df_business_unit\n",
      "Created table sales-store-383520.raw.business_unit\n",
      "DONE\n",
      "Loaded 2 rows and 2 columns to sales-store-383520.raw.business_unit\n",
      "df_channel\n",
      "Created table sales-store-383520.raw.channel\n",
      "DONE\n",
      "Loaded 8 rows and 2 columns to sales-store-383520.raw.channel\n",
      "df_customer_type\n",
      "Created table sales-store-383520.raw.customer_type\n",
      "DONE\n",
      "Loaded 9 rows and 2 columns to sales-store-383520.raw.customer_type\n",
      "df_products\n",
      "Created table sales-store-383520.raw.products\n",
      "DONE\n",
      "Loaded 15259 rows and 5 columns to sales-store-383520.raw.products\n",
      "df_sales\n",
      "Created table sales-store-383520.raw.sales\n",
      "RUNNING\n",
      "RUNNING\n",
      "RUNNING\n",
      "RUNNING\n",
      "RUNNING\n",
      "RUNNING\n",
      "RUNNING\n",
      "RUNNING\n",
      "RUNNING\n",
      "DONE\n",
      "Loaded 4081404 rows and 13 columns to sales-store-383520.raw.sales\n",
      "df_stores\n",
      "Created table sales-store-383520.raw.stores\n",
      "DONE\n",
      "Loaded 4 rows and 7 columns to sales-store-383520.raw.stores\n"
     ]
    }
   ],
   "source": [
    "for k, v in dict_dfs.items():\n",
    "\n",
    "    schema=[]\n",
    "\n",
    "    print(k)\n",
    "\n",
    "    table_id = \"sales-store-383520.raw\" + k.replace('df_', '.')\n",
    "\n",
    "    try:\n",
    "        client.get_table(table_id)  # Make an API request.\n",
    "        print(\"Table {} already exists.\".format(table_id))\n",
    "    except:\n",
    "        table = bigquery.Table(table_id, schema=schema)\n",
    "        table = client.create_table(table)  # Make an API request.\n",
    "        print(\n",
    "            \"Created table {}.{}.{}\".format(table.project, table.dataset_id, table.table_id)\n",
    "        )\n",
    "    \n",
    "        job_config = bigquery.LoadJobConfig(\n",
    "        source_format=bigquery.SourceFormat.CSV,\n",
    "        skip_leading_rows=1,\n",
    "        autodetect=True,\n",
    "        )\n",
    "\n",
    "        job = client.load_table_from_dataframe(v, table_id, job_config=job_config)\n",
    "\n",
    "        while job.state != 'DONE':\n",
    "            time.sleep(2)\n",
    "            job.reload()\n",
    "            print(job.state)\n",
    "\n",
    "        table = client.get_table(table_id)\n",
    "        print(\n",
    "            \"Loaded {} rows and {} columns to {}\".format(\n",
    "                table.num_rows, len(table.schema), table_id\n",
    "            )\n",
    "        )"
   ]
  }
 ],
 "metadata": {
  "kernelspec": {
   "display_name": "Python 3",
   "language": "python",
   "name": "python3"
  },
  "language_info": {
   "codemirror_mode": {
    "name": "ipython",
    "version": 3
   },
   "file_extension": ".py",
   "mimetype": "text/x-python",
   "name": "python",
   "nbconvert_exporter": "python",
   "pygments_lexer": "ipython3",
   "version": "3.10.10"
  },
  "orig_nbformat": 4
 },
 "nbformat": 4,
 "nbformat_minor": 2
}
